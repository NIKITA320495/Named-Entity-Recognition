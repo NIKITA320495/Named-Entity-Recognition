{
 "cells": [
  {
   "cell_type": "code",
   "execution_count": 1,
   "id": "c27d1db5",
   "metadata": {
    "_cell_guid": "b1076dfc-b9ad-4769-8c92-a6c4dae69d19",
    "_uuid": "8f2839f25d086af736a60e9eeb907d3b93b6e0e5",
    "execution": {
     "iopub.execute_input": "2025-01-23T18:27:55.926450Z",
     "iopub.status.busy": "2025-01-23T18:27:55.926049Z",
     "iopub.status.idle": "2025-01-23T18:27:56.914638Z",
     "shell.execute_reply": "2025-01-23T18:27:56.913356Z"
    },
    "papermill": {
     "duration": 0.997363,
     "end_time": "2025-01-23T18:27:56.917023",
     "exception": false,
     "start_time": "2025-01-23T18:27:55.919660",
     "status": "completed"
    },
    "tags": []
   },
   "outputs": [
    {
     "name": "stdout",
     "output_type": "stream",
     "text": [
      "/kaggle/input/medical-ner/Corona2.json\n"
     ]
    }
   ],
   "source": [
    "# This Python 3 environment comes with many helpful analytics libraries installed\n",
    "# It is defined by the kaggle/python Docker image: https://github.com/kaggle/docker-python\n",
    "# For example, here's several helpful packages to load\n",
    "\n",
    "import numpy as np # linear algebra\n",
    "import pandas as pd # data processing, CSV file I/O (e.g. pd.read_csv)\n",
    "\n",
    "# Input data files are available in the read-only \"../input/\" directory\n",
    "# For example, running this (by clicking run or pressing Shift+Enter) will list all files under the input directory\n",
    "\n",
    "import os\n",
    "for dirname, _, filenames in os.walk('/kaggle/input'):\n",
    "    for filename in filenames:\n",
    "        print(os.path.join(dirname, filename))\n",
    "\n",
    "# You can write up to 20GB to the current directory (/kaggle/working/) that gets preserved as output when you create a version using \"Save & Run All\" \n",
    "# You can also write temporary files to /kaggle/temp/, but they won't be saved outside of the current session"
   ]
  },
  {
   "cell_type": "code",
   "execution_count": 2,
   "id": "8a8b7ded",
   "metadata": {
    "execution": {
     "iopub.execute_input": "2025-01-23T18:27:56.927884Z",
     "iopub.status.busy": "2025-01-23T18:27:56.927484Z",
     "iopub.status.idle": "2025-01-23T18:28:03.184496Z",
     "shell.execute_reply": "2025-01-23T18:28:03.183630Z"
    },
    "papermill": {
     "duration": 6.264129,
     "end_time": "2025-01-23T18:28:03.186288",
     "exception": false,
     "start_time": "2025-01-23T18:27:56.922159",
     "status": "completed"
    },
    "tags": []
   },
   "outputs": [],
   "source": [
    "import spacy"
   ]
  },
  {
   "cell_type": "code",
   "execution_count": 3,
   "id": "3f7668da",
   "metadata": {
    "execution": {
     "iopub.execute_input": "2025-01-23T18:28:03.197017Z",
     "iopub.status.busy": "2025-01-23T18:28:03.196584Z",
     "iopub.status.idle": "2025-01-23T18:28:04.207620Z",
     "shell.execute_reply": "2025-01-23T18:28:04.206520Z"
    },
    "papermill": {
     "duration": 1.018434,
     "end_time": "2025-01-23T18:28:04.209682",
     "exception": false,
     "start_time": "2025-01-23T18:28:03.191248",
     "status": "completed"
    },
    "tags": []
   },
   "outputs": [
    {
     "data": {
      "text/plain": [
       "['tok2vec', 'tagger', 'parser', 'attribute_ruler', 'lemmatizer', 'ner']"
      ]
     },
     "execution_count": 3,
     "metadata": {},
     "output_type": "execute_result"
    }
   ],
   "source": [
    "nlp=spacy.load(\"en_core_web_sm\")\n",
    "nlp.pipe_names"
   ]
  },
  {
   "cell_type": "code",
   "execution_count": 4,
   "id": "5a38913a",
   "metadata": {
    "execution": {
     "iopub.execute_input": "2025-01-23T18:28:04.225922Z",
     "iopub.status.busy": "2025-01-23T18:28:04.225499Z",
     "iopub.status.idle": "2025-01-23T18:28:04.274402Z",
     "shell.execute_reply": "2025-01-23T18:28:04.273205Z"
    },
    "papermill": {
     "duration": 0.057569,
     "end_time": "2025-01-23T18:28:04.276054",
     "exception": false,
     "start_time": "2025-01-23T18:28:04.218485",
     "status": "completed"
    },
    "tags": []
   },
   "outputs": [
    {
     "name": "stdout",
     "output_type": "stream",
     "text": [
      "meta | PERSON | People, including fictional\n",
      "$45 billion | MONEY | Monetary values, including unit\n"
     ]
    }
   ],
   "source": [
    "doc=nlp(\"meta is going to acquire twitter for $45 billion\")\n",
    "for ent in doc.ents:\n",
    "    print(ent.text,\"|\",ent.label_,\"|\",spacy.explain(ent.label_))"
   ]
  },
  {
   "cell_type": "code",
   "execution_count": 5,
   "id": "668c8a08",
   "metadata": {
    "execution": {
     "iopub.execute_input": "2025-01-23T18:28:04.287292Z",
     "iopub.status.busy": "2025-01-23T18:28:04.286881Z",
     "iopub.status.idle": "2025-01-23T18:28:04.295443Z",
     "shell.execute_reply": "2025-01-23T18:28:04.294520Z"
    },
    "papermill": {
     "duration": 0.015809,
     "end_time": "2025-01-23T18:28:04.296971",
     "exception": false,
     "start_time": "2025-01-23T18:28:04.281162",
     "status": "completed"
    },
    "tags": []
   },
   "outputs": [
    {
     "data": {
      "text/html": [
       "<span class=\"tex2jax_ignore\"><div class=\"entities\" style=\"line-height: 2.5; direction: ltr\">\n",
       "<mark class=\"entity\" style=\"background: #aa9cfc; padding: 0.45em 0.6em; margin: 0 0.25em; line-height: 1; border-radius: 0.35em;\">\n",
       "    meta\n",
       "    <span style=\"font-size: 0.8em; font-weight: bold; line-height: 1; border-radius: 0.35em; vertical-align: middle; margin-left: 0.5rem\">PERSON</span>\n",
       "</mark>\n",
       " is going to acquire twitter for \n",
       "<mark class=\"entity\" style=\"background: #e4e7d2; padding: 0.45em 0.6em; margin: 0 0.25em; line-height: 1; border-radius: 0.35em;\">\n",
       "    $45 billion\n",
       "    <span style=\"font-size: 0.8em; font-weight: bold; line-height: 1; border-radius: 0.35em; vertical-align: middle; margin-left: 0.5rem\">MONEY</span>\n",
       "</mark>\n",
       "</div></span>"
      ],
      "text/plain": [
       "<IPython.core.display.HTML object>"
      ]
     },
     "metadata": {},
     "output_type": "display_data"
    }
   ],
   "source": [
    "from spacy import  displacy\n",
    "displacy.render(doc,style=\"ent\")"
   ]
  },
  {
   "cell_type": "code",
   "execution_count": 6,
   "id": "158c8999",
   "metadata": {
    "execution": {
     "iopub.execute_input": "2025-01-23T18:28:04.307980Z",
     "iopub.status.busy": "2025-01-23T18:28:04.307613Z",
     "iopub.status.idle": "2025-01-23T18:28:04.314858Z",
     "shell.execute_reply": "2025-01-23T18:28:04.313886Z"
    },
    "papermill": {
     "duration": 0.014402,
     "end_time": "2025-01-23T18:28:04.316395",
     "exception": false,
     "start_time": "2025-01-23T18:28:04.301993",
     "status": "completed"
    },
    "tags": []
   },
   "outputs": [
    {
     "data": {
      "text/plain": [
       "['CARDINAL',\n",
       " 'DATE',\n",
       " 'EVENT',\n",
       " 'FAC',\n",
       " 'GPE',\n",
       " 'LANGUAGE',\n",
       " 'LAW',\n",
       " 'LOC',\n",
       " 'MONEY',\n",
       " 'NORP',\n",
       " 'ORDINAL',\n",
       " 'ORG',\n",
       " 'PERCENT',\n",
       " 'PERSON',\n",
       " 'PRODUCT',\n",
       " 'QUANTITY',\n",
       " 'TIME',\n",
       " 'WORK_OF_ART']"
      ]
     },
     "execution_count": 6,
     "metadata": {},
     "output_type": "execute_result"
    }
   ],
   "source": [
    "nlp.pipe_labels['ner']"
   ]
  },
  {
   "cell_type": "code",
   "execution_count": 7,
   "id": "990706dc",
   "metadata": {
    "execution": {
     "iopub.execute_input": "2025-01-23T18:28:04.331213Z",
     "iopub.status.busy": "2025-01-23T18:28:04.330844Z",
     "iopub.status.idle": "2025-01-23T18:28:04.337703Z",
     "shell.execute_reply": "2025-01-23T18:28:04.336854Z"
    },
    "papermill": {
     "duration": 0.017461,
     "end_time": "2025-01-23T18:28:04.339686",
     "exception": false,
     "start_time": "2025-01-23T18:28:04.322225",
     "status": "completed"
    },
    "tags": []
   },
   "outputs": [],
   "source": [
    "from spacy.tokens import Span\n",
    "s1=Span(doc,0,1,label=\"ORG\")\n",
    "s2=Span(doc,5,6,label=\"ORG\")\n",
    "doc.set_ents([s1,s2],default=\"unmodified\")"
   ]
  },
  {
   "cell_type": "code",
   "execution_count": 8,
   "id": "bfadc7bf",
   "metadata": {
    "execution": {
     "iopub.execute_input": "2025-01-23T18:28:04.358405Z",
     "iopub.status.busy": "2025-01-23T18:28:04.358021Z",
     "iopub.status.idle": "2025-01-23T18:28:04.365989Z",
     "shell.execute_reply": "2025-01-23T18:28:04.365111Z"
    },
    "papermill": {
     "duration": 0.018816,
     "end_time": "2025-01-23T18:28:04.367694",
     "exception": false,
     "start_time": "2025-01-23T18:28:04.348878",
     "status": "completed"
    },
    "tags": []
   },
   "outputs": [
    {
     "name": "stdout",
     "output_type": "stream",
     "text": [
      "meta | ORG | Companies, agencies, institutions, etc.\n",
      "twitter | ORG | Companies, agencies, institutions, etc.\n",
      "$45 billion | MONEY | Monetary values, including unit\n"
     ]
    }
   ],
   "source": [
    "for ent in doc.ents:\n",
    "    print(ent.text,\"|\",ent.label_,\"|\",spacy.explain(ent.label_))"
   ]
  },
  {
   "cell_type": "code",
   "execution_count": 9,
   "id": "8438c284",
   "metadata": {
    "execution": {
     "iopub.execute_input": "2025-01-23T18:28:04.379039Z",
     "iopub.status.busy": "2025-01-23T18:28:04.378709Z",
     "iopub.status.idle": "2025-01-23T18:28:04.391118Z",
     "shell.execute_reply": "2025-01-23T18:28:04.390172Z"
    },
    "papermill": {
     "duration": 0.019834,
     "end_time": "2025-01-23T18:28:04.392722",
     "exception": false,
     "start_time": "2025-01-23T18:28:04.372888",
     "status": "completed"
    },
    "tags": []
   },
   "outputs": [],
   "source": [
    "import json\n",
    "with open('/kaggle/input/medical-ner/Corona2.json','r') as f:\n",
    "    data= json.load(f)"
   ]
  },
  {
   "cell_type": "code",
   "execution_count": 10,
   "id": "a392ecc5",
   "metadata": {
    "execution": {
     "iopub.execute_input": "2025-01-23T18:28:04.403941Z",
     "iopub.status.busy": "2025-01-23T18:28:04.403703Z",
     "iopub.status.idle": "2025-01-23T18:28:04.415416Z",
     "shell.execute_reply": "2025-01-23T18:28:04.414377Z"
    },
    "papermill": {
     "duration": 0.018911,
     "end_time": "2025-01-23T18:28:04.416946",
     "exception": false,
     "start_time": "2025-01-23T18:28:04.398035",
     "status": "completed"
    },
    "tags": []
   },
   "outputs": [
    {
     "data": {
      "text/plain": [
       "{'id': '18c2f619-f102-452f-ab81-d26f7e283ffe',\n",
       " 'content': \"While bismuth compounds (Pepto-Bismol) decreased the number of bowel movements in those with travelers' diarrhea, they do not decrease the length of illness.[91] Anti-motility agents like loperamide are also effective at reducing the number of stools but not the duration of disease.[8] These agents should be used only if bloody diarrhea is not present.[92]\\n\\nDiosmectite, a natural aluminomagnesium silicate clay, is effective in alleviating symptoms of acute diarrhea in children,[93] and also has some effects in chronic functional diarrhea, radiation-induced diarrhea, and chemotherapy-induced diarrhea.[45] Another absorbent agent used for the treatment of mild diarrhea is kaopectate.\\n\\nRacecadotril an antisecretory medication may be used to treat diarrhea in children and adults.[86] It has better tolerability than loperamide, as it causes less constipation and flatulence.[94]\",\n",
       " 'metadata': {},\n",
       " 'annotations': [{'id': '0825a1bf-6a6e-4fa2-be77-8d104701eaed',\n",
       "   'tag_id': 'c06bd022-6ded-44a5-8d90-f17685bb85a1',\n",
       "   'end': 371,\n",
       "   'start': 360,\n",
       "   'example_id': '18c2f619-f102-452f-ab81-d26f7e283ffe',\n",
       "   'tag_name': 'Medicine',\n",
       "   'value': 'Diosmectite',\n",
       "   'correct': None,\n",
       "   'human_annotations': [{'timestamp': '2020-03-21T00:24:32.098000Z',\n",
       "     'annotator_id': 1,\n",
       "     'tagged_token_id': '0825a1bf-6a6e-4fa2-be77-8d104701eaed',\n",
       "     'name': 'Ashpat123',\n",
       "     'reason': 'exploration'}],\n",
       "   'model_annotations': []},\n",
       "  {'id': '145f62b1-bbf5-42f1-8ad5-9c7e08337bf0',\n",
       "   'tag_id': 'c06bd022-6ded-44a5-8d90-f17685bb85a1',\n",
       "   'end': 408,\n",
       "   'start': 383,\n",
       "   'example_id': '18c2f619-f102-452f-ab81-d26f7e283ffe',\n",
       "   'tag_name': 'Medicine',\n",
       "   'value': 'aluminomagnesium silicate',\n",
       "   'correct': None,\n",
       "   'human_annotations': [{'timestamp': '2020-03-21T00:24:43.692000Z',\n",
       "     'annotator_id': 1,\n",
       "     'tagged_token_id': '145f62b1-bbf5-42f1-8ad5-9c7e08337bf0',\n",
       "     'name': 'Ashpat123',\n",
       "     'reason': 'exploration'}],\n",
       "   'model_annotations': []},\n",
       "  {'id': '243efeb2-723f-4be4-933c-fbbf7e0f9903',\n",
       "   'tag_id': '03eb3e50-d4d8-4261-a60b-fa5aee5deb4a',\n",
       "   'end': 112,\n",
       "   'start': 104,\n",
       "   'example_id': '18c2f619-f102-452f-ab81-d26f7e283ffe',\n",
       "   'tag_name': 'MedicalCondition',\n",
       "   'value': 'diarrhea',\n",
       "   'correct': None,\n",
       "   'human_annotations': [{'timestamp': '2020-03-21T00:24:09.423000Z',\n",
       "     'annotator_id': 1,\n",
       "     'tagged_token_id': '243efeb2-723f-4be4-933c-fbbf7e0f9903',\n",
       "     'name': 'Ashpat123',\n",
       "     'reason': 'exploration'}],\n",
       "   'model_annotations': []},\n",
       "  {'id': '281f49d3-879a-4409-b09e-4cfae019af16',\n",
       "   'tag_id': 'c06bd022-6ded-44a5-8d90-f17685bb85a1',\n",
       "   'end': 689,\n",
       "   'start': 679,\n",
       "   'example_id': '18c2f619-f102-452f-ab81-d26f7e283ffe',\n",
       "   'tag_name': 'Medicine',\n",
       "   'value': 'kaopectate',\n",
       "   'correct': None,\n",
       "   'human_annotations': [{'timestamp': '2020-03-21T00:25:38.366000Z',\n",
       "     'annotator_id': 1,\n",
       "     'tagged_token_id': '281f49d3-879a-4409-b09e-4cfae019af16',\n",
       "     'name': 'Ashpat123',\n",
       "     'reason': 'exploration'}],\n",
       "   'model_annotations': []},\n",
       "  {'id': '32fdf9e7-63f7-442a-8e25-f08ea4ad94d5',\n",
       "   'tag_id': 'c06bd022-6ded-44a5-8d90-f17685bb85a1',\n",
       "   'end': 23,\n",
       "   'start': 6,\n",
       "   'example_id': '18c2f619-f102-452f-ab81-d26f7e283ffe',\n",
       "   'tag_name': 'Medicine',\n",
       "   'value': 'bismuth compounds',\n",
       "   'correct': None,\n",
       "   'human_annotations': [{'timestamp': '2020-03-21T00:23:46.721000Z',\n",
       "     'annotator_id': 1,\n",
       "     'tagged_token_id': '32fdf9e7-63f7-442a-8e25-f08ea4ad94d5',\n",
       "     'name': 'Ashpat123',\n",
       "     'reason': 'exploration'}],\n",
       "   'model_annotations': []},\n",
       "  {'id': '392094d2-febf-4074-a2ca-4c0082f4e5b8',\n",
       "   'tag_id': 'c06bd022-6ded-44a5-8d90-f17685bb85a1',\n",
       "   'end': 37,\n",
       "   'start': 25,\n",
       "   'example_id': '18c2f619-f102-452f-ab81-d26f7e283ffe',\n",
       "   'tag_name': 'Medicine',\n",
       "   'value': 'Pepto-Bismol',\n",
       "   'correct': None,\n",
       "   'human_annotations': [{'timestamp': '2020-03-21T00:23:58.861000Z',\n",
       "     'annotator_id': 1,\n",
       "     'tagged_token_id': '392094d2-febf-4074-a2ca-4c0082f4e5b8',\n",
       "     'name': 'Ashpat123',\n",
       "     'reason': 'exploration'}],\n",
       "   'model_annotations': []},\n",
       "  {'id': '450b8c30-cf2e-4774-96d9-58b4160bea38',\n",
       "   'tag_id': '03eb3e50-d4d8-4261-a60b-fa5aee5deb4a',\n",
       "   'end': 470,\n",
       "   'start': 461,\n",
       "   'example_id': '18c2f619-f102-452f-ab81-d26f7e283ffe',\n",
       "   'tag_name': 'MedicalCondition',\n",
       "   'value': 'diarrhea ',\n",
       "   'correct': None,\n",
       "   'human_annotations': [],\n",
       "   'model_annotations': []},\n",
       "  {'id': '6b73f683-7130-4e16-bcc2-e3cc8cf89f4d',\n",
       "   'tag_id': 'c06bd022-6ded-44a5-8d90-f17685bb85a1',\n",
       "   'end': 589,\n",
       "   'start': 577,\n",
       "   'example_id': '18c2f619-f102-452f-ab81-d26f7e283ffe',\n",
       "   'tag_name': 'Medicine',\n",
       "   'value': 'chemotherapy',\n",
       "   'correct': None,\n",
       "   'human_annotations': [{'timestamp': '2020-03-21T00:25:24.179000Z',\n",
       "     'annotator_id': 1,\n",
       "     'tagged_token_id': '6b73f683-7130-4e16-bcc2-e3cc8cf89f4d',\n",
       "     'name': 'Ashpat123',\n",
       "     'reason': 'exploration'}],\n",
       "   'model_annotations': []},\n",
       "  {'id': '74574b7f-d535-48e1-8651-2708adcfe453',\n",
       "   'tag_id': '03eb3e50-d4d8-4261-a60b-fa5aee5deb4a',\n",
       "   'end': 865,\n",
       "   'start': 853,\n",
       "   'example_id': '18c2f619-f102-452f-ab81-d26f7e283ffe',\n",
       "   'tag_name': 'MedicalCondition',\n",
       "   'value': 'constipation',\n",
       "   'correct': None,\n",
       "   'human_annotations': [{'timestamp': '2020-03-21T00:26:31.676000Z',\n",
       "     'annotator_id': 1,\n",
       "     'tagged_token_id': '74574b7f-d535-48e1-8651-2708adcfe453',\n",
       "     'name': 'Ashpat123',\n",
       "     'reason': 'exploration'}],\n",
       "   'model_annotations': []},\n",
       "  {'id': '7572ab8e-ae99-400c-b4ab-ed46fbc9f97e',\n",
       "   'tag_id': 'c06bd022-6ded-44a5-8d90-f17685bb85a1',\n",
       "   'end': 198,\n",
       "   'start': 188,\n",
       "   'example_id': '18c2f619-f102-452f-ab81-d26f7e283ffe',\n",
       "   'tag_name': 'Medicine',\n",
       "   'value': 'loperamide',\n",
       "   'correct': None,\n",
       "   'human_annotations': [{'timestamp': '2020-03-21T00:24:17.680000Z',\n",
       "     'annotator_id': 1,\n",
       "     'tagged_token_id': '7572ab8e-ae99-400c-b4ab-ed46fbc9f97e',\n",
       "     'name': 'Ashpat123',\n",
       "     'reason': 'exploration'}],\n",
       "   'model_annotations': []},\n",
       "  {'id': '800e6c6c-0bfb-4819-a25a-34f759753457',\n",
       "   'tag_id': '03eb3e50-d4d8-4261-a60b-fa5aee5deb4a',\n",
       "   'end': 762,\n",
       "   'start': 754,\n",
       "   'example_id': '18c2f619-f102-452f-ab81-d26f7e283ffe',\n",
       "   'tag_name': 'MedicalCondition',\n",
       "   'value': 'diarrhea',\n",
       "   'correct': None,\n",
       "   'human_annotations': [{'timestamp': '2020-03-21T00:26:07.368000Z',\n",
       "     'annotator_id': 1,\n",
       "     'tagged_token_id': '800e6c6c-0bfb-4819-a25a-34f759753457',\n",
       "     'name': 'Ashpat123',\n",
       "     'reason': 'exploration'}],\n",
       "   'model_annotations': []},\n",
       "  {'id': '8214556a-7584-4d9b-86cd-5e09137ad904',\n",
       "   'tag_id': '03eb3e50-d4d8-4261-a60b-fa5aee5deb4a',\n",
       "   'end': 880,\n",
       "   'start': 870,\n",
       "   'example_id': '18c2f619-f102-452f-ab81-d26f7e283ffe',\n",
       "   'tag_name': 'MedicalCondition',\n",
       "   'value': 'flatulence',\n",
       "   'correct': None,\n",
       "   'human_annotations': [{'timestamp': '2020-03-21T00:26:41.322000Z',\n",
       "     'annotator_id': 1,\n",
       "     'tagged_token_id': '8214556a-7584-4d9b-86cd-5e09137ad904',\n",
       "     'name': 'Ashpat123',\n",
       "     'reason': 'exploration'}],\n",
       "   'model_annotations': []},\n",
       "  {'id': '98968e14-6756-4174-9d3d-7abd58b3aa34',\n",
       "   'tag_id': 'c06bd022-6ded-44a5-8d90-f17685bb85a1',\n",
       "   'end': 833,\n",
       "   'start': 823,\n",
       "   'example_id': '18c2f619-f102-452f-ab81-d26f7e283ffe',\n",
       "   'tag_name': 'Medicine',\n",
       "   'value': 'loperamide',\n",
       "   'correct': None,\n",
       "   'human_annotations': [{'timestamp': '2020-03-21T00:26:12.759000Z',\n",
       "     'annotator_id': 1,\n",
       "     'tagged_token_id': '98968e14-6756-4174-9d3d-7abd58b3aa34',\n",
       "     'name': 'Ashpat123',\n",
       "     'reason': 'exploration'}],\n",
       "   'model_annotations': []},\n",
       "  {'id': 'a0a03c7b-cfad-41ee-9f5c-f8a802475994',\n",
       "   'tag_id': '03eb3e50-d4d8-4261-a60b-fa5aee5deb4a',\n",
       "   'end': 853,\n",
       "   'start': 852,\n",
       "   'example_id': '18c2f619-f102-452f-ab81-d26f7e283ffe',\n",
       "   'tag_name': 'MedicalCondition',\n",
       "   'value': ' ',\n",
       "   'correct': None,\n",
       "   'human_annotations': [],\n",
       "   'model_annotations': []},\n",
       "  {'id': 'bfbddfd4-38aa-43a7-9366-24c95829ac8c',\n",
       "   'tag_id': '03eb3e50-d4d8-4261-a60b-fa5aee5deb4a',\n",
       "   'end': 469,\n",
       "   'start': 461,\n",
       "   'example_id': '18c2f619-f102-452f-ab81-d26f7e283ffe',\n",
       "   'tag_name': 'MedicalCondition',\n",
       "   'value': 'diarrhea',\n",
       "   'correct': None,\n",
       "   'human_annotations': [{'timestamp': '2020-03-21T00:25:06.921000Z',\n",
       "     'annotator_id': 1,\n",
       "     'tagged_token_id': 'bfbddfd4-38aa-43a7-9366-24c95829ac8c',\n",
       "     'name': 'Ashpat123',\n",
       "     'reason': 'exploration'}],\n",
       "   'model_annotations': []},\n",
       "  {'id': 'd7d68c18-0d8e-4547-a2fa-81fdcaf3080e',\n",
       "   'tag_id': '03eb3e50-d4d8-4261-a60b-fa5aee5deb4a',\n",
       "   'end': 543,\n",
       "   'start': 535,\n",
       "   'example_id': '18c2f619-f102-452f-ab81-d26f7e283ffe',\n",
       "   'tag_name': 'MedicalCondition',\n",
       "   'value': 'diarrhea',\n",
       "   'correct': None,\n",
       "   'human_annotations': [{'timestamp': '2020-03-21T00:25:12.203000Z',\n",
       "     'annotator_id': 1,\n",
       "     'tagged_token_id': 'd7d68c18-0d8e-4547-a2fa-81fdcaf3080e',\n",
       "     'name': 'Ashpat123',\n",
       "     'reason': 'exploration'}],\n",
       "   'model_annotations': []},\n",
       "  {'id': 'ee956220-42a4-4a91-b9f0-75019c4f5dd9',\n",
       "   'tag_id': 'c06bd022-6ded-44a5-8d90-f17685bb85a1',\n",
       "   'end': 704,\n",
       "   'start': 692,\n",
       "   'example_id': '18c2f619-f102-452f-ab81-d26f7e283ffe',\n",
       "   'tag_name': 'Medicine',\n",
       "   'value': 'Racecadotril',\n",
       "   'correct': None,\n",
       "   'human_annotations': [{'timestamp': '2020-03-21T00:25:56.503000Z',\n",
       "     'annotator_id': 1,\n",
       "     'tagged_token_id': 'ee956220-42a4-4a91-b9f0-75019c4f5dd9',\n",
       "     'name': 'Ashpat123',\n",
       "     'reason': 'exploration'}],\n",
       "   'model_annotations': []},\n",
       "  {'id': 'f04a6b7e-8904-405c-9301-e4543238b7a5',\n",
       "   'tag_id': '03eb3e50-d4d8-4261-a60b-fa5aee5deb4a',\n",
       "   'end': 571,\n",
       "   'start': 563,\n",
       "   'example_id': '18c2f619-f102-452f-ab81-d26f7e283ffe',\n",
       "   'tag_name': 'MedicalCondition',\n",
       "   'value': 'diarrhea',\n",
       "   'correct': None,\n",
       "   'human_annotations': [{'timestamp': '2020-03-21T00:25:18.043000Z',\n",
       "     'annotator_id': 1,\n",
       "     'tagged_token_id': 'f04a6b7e-8904-405c-9301-e4543238b7a5',\n",
       "     'name': 'Ashpat123',\n",
       "     'reason': 'exploration'}],\n",
       "   'model_annotations': []}],\n",
       " 'classifications': []}"
      ]
     },
     "execution_count": 10,
     "metadata": {},
     "output_type": "execute_result"
    }
   ],
   "source": [
    "data['examples'][0]"
   ]
  },
  {
   "cell_type": "code",
   "execution_count": 11,
   "id": "42b7dd5e",
   "metadata": {
    "execution": {
     "iopub.execute_input": "2025-01-23T18:28:04.432424Z",
     "iopub.status.busy": "2025-01-23T18:28:04.431965Z",
     "iopub.status.idle": "2025-01-23T18:28:04.439044Z",
     "shell.execute_reply": "2025-01-23T18:28:04.437992Z"
    },
    "papermill": {
     "duration": 0.017721,
     "end_time": "2025-01-23T18:28:04.440719",
     "exception": false,
     "start_time": "2025-01-23T18:28:04.422998",
     "status": "completed"
    },
    "tags": []
   },
   "outputs": [
    {
     "data": {
      "text/plain": [
       "dict_keys(['id', 'content', 'metadata', 'annotations', 'classifications'])"
      ]
     },
     "execution_count": 11,
     "metadata": {},
     "output_type": "execute_result"
    }
   ],
   "source": [
    "data['examples'][0].keys()"
   ]
  },
  {
   "cell_type": "code",
   "execution_count": 12,
   "id": "09db9b28",
   "metadata": {
    "execution": {
     "iopub.execute_input": "2025-01-23T18:28:04.456281Z",
     "iopub.status.busy": "2025-01-23T18:28:04.456003Z",
     "iopub.status.idle": "2025-01-23T18:28:04.461939Z",
     "shell.execute_reply": "2025-01-23T18:28:04.461024Z"
    },
    "papermill": {
     "duration": 0.015155,
     "end_time": "2025-01-23T18:28:04.463342",
     "exception": false,
     "start_time": "2025-01-23T18:28:04.448187",
     "status": "completed"
    },
    "tags": []
   },
   "outputs": [
    {
     "data": {
      "text/plain": [
       "\"While bismuth compounds (Pepto-Bismol) decreased the number of bowel movements in those with travelers' diarrhea, they do not decrease the length of illness.[91] Anti-motility agents like loperamide are also effective at reducing the number of stools but not the duration of disease.[8] These agents should be used only if bloody diarrhea is not present.[92]\\n\\nDiosmectite, a natural aluminomagnesium silicate clay, is effective in alleviating symptoms of acute diarrhea in children,[93] and also has some effects in chronic functional diarrhea, radiation-induced diarrhea, and chemotherapy-induced diarrhea.[45] Another absorbent agent used for the treatment of mild diarrhea is kaopectate.\\n\\nRacecadotril an antisecretory medication may be used to treat diarrhea in children and adults.[86] It has better tolerability than loperamide, as it causes less constipation and flatulence.[94]\""
      ]
     },
     "execution_count": 12,
     "metadata": {},
     "output_type": "execute_result"
    }
   ],
   "source": [
    "data['examples'][0]['content']"
   ]
  },
  {
   "cell_type": "code",
   "execution_count": 13,
   "id": "751b82a7",
   "metadata": {
    "execution": {
     "iopub.execute_input": "2025-01-23T18:28:04.475590Z",
     "iopub.status.busy": "2025-01-23T18:28:04.475262Z",
     "iopub.status.idle": "2025-01-23T18:28:04.491912Z",
     "shell.execute_reply": "2025-01-23T18:28:04.490956Z"
    },
    "papermill": {
     "duration": 0.024496,
     "end_time": "2025-01-23T18:28:04.493445",
     "exception": false,
     "start_time": "2025-01-23T18:28:04.468949",
     "status": "completed"
    },
    "tags": []
   },
   "outputs": [
    {
     "data": {
      "text/plain": [
       "[{'id': '0825a1bf-6a6e-4fa2-be77-8d104701eaed',\n",
       "  'tag_id': 'c06bd022-6ded-44a5-8d90-f17685bb85a1',\n",
       "  'end': 371,\n",
       "  'start': 360,\n",
       "  'example_id': '18c2f619-f102-452f-ab81-d26f7e283ffe',\n",
       "  'tag_name': 'Medicine',\n",
       "  'value': 'Diosmectite',\n",
       "  'correct': None,\n",
       "  'human_annotations': [{'timestamp': '2020-03-21T00:24:32.098000Z',\n",
       "    'annotator_id': 1,\n",
       "    'tagged_token_id': '0825a1bf-6a6e-4fa2-be77-8d104701eaed',\n",
       "    'name': 'Ashpat123',\n",
       "    'reason': 'exploration'}],\n",
       "  'model_annotations': []},\n",
       " {'id': '145f62b1-bbf5-42f1-8ad5-9c7e08337bf0',\n",
       "  'tag_id': 'c06bd022-6ded-44a5-8d90-f17685bb85a1',\n",
       "  'end': 408,\n",
       "  'start': 383,\n",
       "  'example_id': '18c2f619-f102-452f-ab81-d26f7e283ffe',\n",
       "  'tag_name': 'Medicine',\n",
       "  'value': 'aluminomagnesium silicate',\n",
       "  'correct': None,\n",
       "  'human_annotations': [{'timestamp': '2020-03-21T00:24:43.692000Z',\n",
       "    'annotator_id': 1,\n",
       "    'tagged_token_id': '145f62b1-bbf5-42f1-8ad5-9c7e08337bf0',\n",
       "    'name': 'Ashpat123',\n",
       "    'reason': 'exploration'}],\n",
       "  'model_annotations': []},\n",
       " {'id': '243efeb2-723f-4be4-933c-fbbf7e0f9903',\n",
       "  'tag_id': '03eb3e50-d4d8-4261-a60b-fa5aee5deb4a',\n",
       "  'end': 112,\n",
       "  'start': 104,\n",
       "  'example_id': '18c2f619-f102-452f-ab81-d26f7e283ffe',\n",
       "  'tag_name': 'MedicalCondition',\n",
       "  'value': 'diarrhea',\n",
       "  'correct': None,\n",
       "  'human_annotations': [{'timestamp': '2020-03-21T00:24:09.423000Z',\n",
       "    'annotator_id': 1,\n",
       "    'tagged_token_id': '243efeb2-723f-4be4-933c-fbbf7e0f9903',\n",
       "    'name': 'Ashpat123',\n",
       "    'reason': 'exploration'}],\n",
       "  'model_annotations': []},\n",
       " {'id': '281f49d3-879a-4409-b09e-4cfae019af16',\n",
       "  'tag_id': 'c06bd022-6ded-44a5-8d90-f17685bb85a1',\n",
       "  'end': 689,\n",
       "  'start': 679,\n",
       "  'example_id': '18c2f619-f102-452f-ab81-d26f7e283ffe',\n",
       "  'tag_name': 'Medicine',\n",
       "  'value': 'kaopectate',\n",
       "  'correct': None,\n",
       "  'human_annotations': [{'timestamp': '2020-03-21T00:25:38.366000Z',\n",
       "    'annotator_id': 1,\n",
       "    'tagged_token_id': '281f49d3-879a-4409-b09e-4cfae019af16',\n",
       "    'name': 'Ashpat123',\n",
       "    'reason': 'exploration'}],\n",
       "  'model_annotations': []},\n",
       " {'id': '32fdf9e7-63f7-442a-8e25-f08ea4ad94d5',\n",
       "  'tag_id': 'c06bd022-6ded-44a5-8d90-f17685bb85a1',\n",
       "  'end': 23,\n",
       "  'start': 6,\n",
       "  'example_id': '18c2f619-f102-452f-ab81-d26f7e283ffe',\n",
       "  'tag_name': 'Medicine',\n",
       "  'value': 'bismuth compounds',\n",
       "  'correct': None,\n",
       "  'human_annotations': [{'timestamp': '2020-03-21T00:23:46.721000Z',\n",
       "    'annotator_id': 1,\n",
       "    'tagged_token_id': '32fdf9e7-63f7-442a-8e25-f08ea4ad94d5',\n",
       "    'name': 'Ashpat123',\n",
       "    'reason': 'exploration'}],\n",
       "  'model_annotations': []},\n",
       " {'id': '392094d2-febf-4074-a2ca-4c0082f4e5b8',\n",
       "  'tag_id': 'c06bd022-6ded-44a5-8d90-f17685bb85a1',\n",
       "  'end': 37,\n",
       "  'start': 25,\n",
       "  'example_id': '18c2f619-f102-452f-ab81-d26f7e283ffe',\n",
       "  'tag_name': 'Medicine',\n",
       "  'value': 'Pepto-Bismol',\n",
       "  'correct': None,\n",
       "  'human_annotations': [{'timestamp': '2020-03-21T00:23:58.861000Z',\n",
       "    'annotator_id': 1,\n",
       "    'tagged_token_id': '392094d2-febf-4074-a2ca-4c0082f4e5b8',\n",
       "    'name': 'Ashpat123',\n",
       "    'reason': 'exploration'}],\n",
       "  'model_annotations': []},\n",
       " {'id': '450b8c30-cf2e-4774-96d9-58b4160bea38',\n",
       "  'tag_id': '03eb3e50-d4d8-4261-a60b-fa5aee5deb4a',\n",
       "  'end': 470,\n",
       "  'start': 461,\n",
       "  'example_id': '18c2f619-f102-452f-ab81-d26f7e283ffe',\n",
       "  'tag_name': 'MedicalCondition',\n",
       "  'value': 'diarrhea ',\n",
       "  'correct': None,\n",
       "  'human_annotations': [],\n",
       "  'model_annotations': []},\n",
       " {'id': '6b73f683-7130-4e16-bcc2-e3cc8cf89f4d',\n",
       "  'tag_id': 'c06bd022-6ded-44a5-8d90-f17685bb85a1',\n",
       "  'end': 589,\n",
       "  'start': 577,\n",
       "  'example_id': '18c2f619-f102-452f-ab81-d26f7e283ffe',\n",
       "  'tag_name': 'Medicine',\n",
       "  'value': 'chemotherapy',\n",
       "  'correct': None,\n",
       "  'human_annotations': [{'timestamp': '2020-03-21T00:25:24.179000Z',\n",
       "    'annotator_id': 1,\n",
       "    'tagged_token_id': '6b73f683-7130-4e16-bcc2-e3cc8cf89f4d',\n",
       "    'name': 'Ashpat123',\n",
       "    'reason': 'exploration'}],\n",
       "  'model_annotations': []},\n",
       " {'id': '74574b7f-d535-48e1-8651-2708adcfe453',\n",
       "  'tag_id': '03eb3e50-d4d8-4261-a60b-fa5aee5deb4a',\n",
       "  'end': 865,\n",
       "  'start': 853,\n",
       "  'example_id': '18c2f619-f102-452f-ab81-d26f7e283ffe',\n",
       "  'tag_name': 'MedicalCondition',\n",
       "  'value': 'constipation',\n",
       "  'correct': None,\n",
       "  'human_annotations': [{'timestamp': '2020-03-21T00:26:31.676000Z',\n",
       "    'annotator_id': 1,\n",
       "    'tagged_token_id': '74574b7f-d535-48e1-8651-2708adcfe453',\n",
       "    'name': 'Ashpat123',\n",
       "    'reason': 'exploration'}],\n",
       "  'model_annotations': []},\n",
       " {'id': '7572ab8e-ae99-400c-b4ab-ed46fbc9f97e',\n",
       "  'tag_id': 'c06bd022-6ded-44a5-8d90-f17685bb85a1',\n",
       "  'end': 198,\n",
       "  'start': 188,\n",
       "  'example_id': '18c2f619-f102-452f-ab81-d26f7e283ffe',\n",
       "  'tag_name': 'Medicine',\n",
       "  'value': 'loperamide',\n",
       "  'correct': None,\n",
       "  'human_annotations': [{'timestamp': '2020-03-21T00:24:17.680000Z',\n",
       "    'annotator_id': 1,\n",
       "    'tagged_token_id': '7572ab8e-ae99-400c-b4ab-ed46fbc9f97e',\n",
       "    'name': 'Ashpat123',\n",
       "    'reason': 'exploration'}],\n",
       "  'model_annotations': []},\n",
       " {'id': '800e6c6c-0bfb-4819-a25a-34f759753457',\n",
       "  'tag_id': '03eb3e50-d4d8-4261-a60b-fa5aee5deb4a',\n",
       "  'end': 762,\n",
       "  'start': 754,\n",
       "  'example_id': '18c2f619-f102-452f-ab81-d26f7e283ffe',\n",
       "  'tag_name': 'MedicalCondition',\n",
       "  'value': 'diarrhea',\n",
       "  'correct': None,\n",
       "  'human_annotations': [{'timestamp': '2020-03-21T00:26:07.368000Z',\n",
       "    'annotator_id': 1,\n",
       "    'tagged_token_id': '800e6c6c-0bfb-4819-a25a-34f759753457',\n",
       "    'name': 'Ashpat123',\n",
       "    'reason': 'exploration'}],\n",
       "  'model_annotations': []},\n",
       " {'id': '8214556a-7584-4d9b-86cd-5e09137ad904',\n",
       "  'tag_id': '03eb3e50-d4d8-4261-a60b-fa5aee5deb4a',\n",
       "  'end': 880,\n",
       "  'start': 870,\n",
       "  'example_id': '18c2f619-f102-452f-ab81-d26f7e283ffe',\n",
       "  'tag_name': 'MedicalCondition',\n",
       "  'value': 'flatulence',\n",
       "  'correct': None,\n",
       "  'human_annotations': [{'timestamp': '2020-03-21T00:26:41.322000Z',\n",
       "    'annotator_id': 1,\n",
       "    'tagged_token_id': '8214556a-7584-4d9b-86cd-5e09137ad904',\n",
       "    'name': 'Ashpat123',\n",
       "    'reason': 'exploration'}],\n",
       "  'model_annotations': []},\n",
       " {'id': '98968e14-6756-4174-9d3d-7abd58b3aa34',\n",
       "  'tag_id': 'c06bd022-6ded-44a5-8d90-f17685bb85a1',\n",
       "  'end': 833,\n",
       "  'start': 823,\n",
       "  'example_id': '18c2f619-f102-452f-ab81-d26f7e283ffe',\n",
       "  'tag_name': 'Medicine',\n",
       "  'value': 'loperamide',\n",
       "  'correct': None,\n",
       "  'human_annotations': [{'timestamp': '2020-03-21T00:26:12.759000Z',\n",
       "    'annotator_id': 1,\n",
       "    'tagged_token_id': '98968e14-6756-4174-9d3d-7abd58b3aa34',\n",
       "    'name': 'Ashpat123',\n",
       "    'reason': 'exploration'}],\n",
       "  'model_annotations': []},\n",
       " {'id': 'a0a03c7b-cfad-41ee-9f5c-f8a802475994',\n",
       "  'tag_id': '03eb3e50-d4d8-4261-a60b-fa5aee5deb4a',\n",
       "  'end': 853,\n",
       "  'start': 852,\n",
       "  'example_id': '18c2f619-f102-452f-ab81-d26f7e283ffe',\n",
       "  'tag_name': 'MedicalCondition',\n",
       "  'value': ' ',\n",
       "  'correct': None,\n",
       "  'human_annotations': [],\n",
       "  'model_annotations': []},\n",
       " {'id': 'bfbddfd4-38aa-43a7-9366-24c95829ac8c',\n",
       "  'tag_id': '03eb3e50-d4d8-4261-a60b-fa5aee5deb4a',\n",
       "  'end': 469,\n",
       "  'start': 461,\n",
       "  'example_id': '18c2f619-f102-452f-ab81-d26f7e283ffe',\n",
       "  'tag_name': 'MedicalCondition',\n",
       "  'value': 'diarrhea',\n",
       "  'correct': None,\n",
       "  'human_annotations': [{'timestamp': '2020-03-21T00:25:06.921000Z',\n",
       "    'annotator_id': 1,\n",
       "    'tagged_token_id': 'bfbddfd4-38aa-43a7-9366-24c95829ac8c',\n",
       "    'name': 'Ashpat123',\n",
       "    'reason': 'exploration'}],\n",
       "  'model_annotations': []},\n",
       " {'id': 'd7d68c18-0d8e-4547-a2fa-81fdcaf3080e',\n",
       "  'tag_id': '03eb3e50-d4d8-4261-a60b-fa5aee5deb4a',\n",
       "  'end': 543,\n",
       "  'start': 535,\n",
       "  'example_id': '18c2f619-f102-452f-ab81-d26f7e283ffe',\n",
       "  'tag_name': 'MedicalCondition',\n",
       "  'value': 'diarrhea',\n",
       "  'correct': None,\n",
       "  'human_annotations': [{'timestamp': '2020-03-21T00:25:12.203000Z',\n",
       "    'annotator_id': 1,\n",
       "    'tagged_token_id': 'd7d68c18-0d8e-4547-a2fa-81fdcaf3080e',\n",
       "    'name': 'Ashpat123',\n",
       "    'reason': 'exploration'}],\n",
       "  'model_annotations': []},\n",
       " {'id': 'ee956220-42a4-4a91-b9f0-75019c4f5dd9',\n",
       "  'tag_id': 'c06bd022-6ded-44a5-8d90-f17685bb85a1',\n",
       "  'end': 704,\n",
       "  'start': 692,\n",
       "  'example_id': '18c2f619-f102-452f-ab81-d26f7e283ffe',\n",
       "  'tag_name': 'Medicine',\n",
       "  'value': 'Racecadotril',\n",
       "  'correct': None,\n",
       "  'human_annotations': [{'timestamp': '2020-03-21T00:25:56.503000Z',\n",
       "    'annotator_id': 1,\n",
       "    'tagged_token_id': 'ee956220-42a4-4a91-b9f0-75019c4f5dd9',\n",
       "    'name': 'Ashpat123',\n",
       "    'reason': 'exploration'}],\n",
       "  'model_annotations': []},\n",
       " {'id': 'f04a6b7e-8904-405c-9301-e4543238b7a5',\n",
       "  'tag_id': '03eb3e50-d4d8-4261-a60b-fa5aee5deb4a',\n",
       "  'end': 571,\n",
       "  'start': 563,\n",
       "  'example_id': '18c2f619-f102-452f-ab81-d26f7e283ffe',\n",
       "  'tag_name': 'MedicalCondition',\n",
       "  'value': 'diarrhea',\n",
       "  'correct': None,\n",
       "  'human_annotations': [{'timestamp': '2020-03-21T00:25:18.043000Z',\n",
       "    'annotator_id': 1,\n",
       "    'tagged_token_id': 'f04a6b7e-8904-405c-9301-e4543238b7a5',\n",
       "    'name': 'Ashpat123',\n",
       "    'reason': 'exploration'}],\n",
       "  'model_annotations': []}]"
      ]
     },
     "execution_count": 13,
     "metadata": {},
     "output_type": "execute_result"
    }
   ],
   "source": [
    "data['examples'][0]['annotations']"
   ]
  },
  {
   "cell_type": "code",
   "execution_count": 14,
   "id": "50380ddb",
   "metadata": {
    "execution": {
     "iopub.execute_input": "2025-01-23T18:28:04.506164Z",
     "iopub.status.busy": "2025-01-23T18:28:04.505892Z",
     "iopub.status.idle": "2025-01-23T18:28:04.513541Z",
     "shell.execute_reply": "2025-01-23T18:28:04.512615Z"
    },
    "papermill": {
     "duration": 0.015581,
     "end_time": "2025-01-23T18:28:04.514985",
     "exception": false,
     "start_time": "2025-01-23T18:28:04.499404",
     "status": "completed"
    },
    "tags": []
   },
   "outputs": [
    {
     "data": {
      "text/plain": [
       "{'text': \"While bismuth compounds (Pepto-Bismol) decreased the number of bowel movements in those with travelers' diarrhea, they do not decrease the length of illness.[91] Anti-motility agents like loperamide are also effective at reducing the number of stools but not the duration of disease.[8] These agents should be used only if bloody diarrhea is not present.[92]\\n\\nDiosmectite, a natural aluminomagnesium silicate clay, is effective in alleviating symptoms of acute diarrhea in children,[93] and also has some effects in chronic functional diarrhea, radiation-induced diarrhea, and chemotherapy-induced diarrhea.[45] Another absorbent agent used for the treatment of mild diarrhea is kaopectate.\\n\\nRacecadotril an antisecretory medication may be used to treat diarrhea in children and adults.[86] It has better tolerability than loperamide, as it causes less constipation and flatulence.[94]\",\n",
       " 'entities': [(360, 371, 'MEDICINE'),\n",
       "  (383, 408, 'MEDICINE'),\n",
       "  (104, 112, 'MEDICALCONDITION'),\n",
       "  (679, 689, 'MEDICINE'),\n",
       "  (6, 23, 'MEDICINE'),\n",
       "  (25, 37, 'MEDICINE'),\n",
       "  (461, 470, 'MEDICALCONDITION'),\n",
       "  (577, 589, 'MEDICINE'),\n",
       "  (853, 865, 'MEDICALCONDITION'),\n",
       "  (188, 198, 'MEDICINE'),\n",
       "  (754, 762, 'MEDICALCONDITION'),\n",
       "  (870, 880, 'MEDICALCONDITION'),\n",
       "  (823, 833, 'MEDICINE'),\n",
       "  (852, 853, 'MEDICALCONDITION'),\n",
       "  (461, 469, 'MEDICALCONDITION'),\n",
       "  (535, 543, 'MEDICALCONDITION'),\n",
       "  (692, 704, 'MEDICINE'),\n",
       "  (563, 571, 'MEDICALCONDITION')]}"
      ]
     },
     "execution_count": 14,
     "metadata": {},
     "output_type": "execute_result"
    }
   ],
   "source": [
    "training_data=[]\n",
    "for example in data['examples']:\n",
    "    temp_dict={}\n",
    "    temp_dict['text']=example['content']\n",
    "    temp_dict['entities']=[]\n",
    "    for annotations in example['annotations']:\n",
    "        start=annotations['start']\n",
    "        end=annotations['end']\n",
    "        label=annotations['tag_name'].upper()\n",
    "        temp_dict['entities'].append((start,end,label))\n",
    "    training_data.append(temp_dict)\n",
    "training_data[0]"
   ]
  },
  {
   "cell_type": "code",
   "execution_count": 15,
   "id": "0465fa85",
   "metadata": {
    "execution": {
     "iopub.execute_input": "2025-01-23T18:28:04.527669Z",
     "iopub.status.busy": "2025-01-23T18:28:04.527419Z",
     "iopub.status.idle": "2025-01-23T18:28:04.532360Z",
     "shell.execute_reply": "2025-01-23T18:28:04.531495Z"
    },
    "papermill": {
     "duration": 0.012957,
     "end_time": "2025-01-23T18:28:04.533838",
     "exception": false,
     "start_time": "2025-01-23T18:28:04.520881",
     "status": "completed"
    },
    "tags": []
   },
   "outputs": [
    {
     "data": {
      "text/plain": [
       "\"While bismuth compounds (Pepto-Bismol) decreased the number of bowel movements in those with travelers' diarrhea, they do not decrease the length of illness.[91] Anti-motility agents like loperamide are also effective at reducing the number of stools but not the duration of disease.[8] These agents should be used only if bloody diarrhea is not present.[92]\\n\\nDiosmectite, a natural aluminomagnesium silicate clay, is effective in alleviating symptoms of acute diarrhea in children,[93] and also has some effects in chronic functional diarrhea, radiation-induced diarrhea, and chemotherapy-induced diarrhea.[45] Another absorbent agent used for the treatment of mild diarrhea is kaopectate.\\n\\nRacecadotril an antisecretory medication may be used to treat diarrhea in children and adults.[86] It has better tolerability than loperamide, as it causes less constipation and flatulence.[94]\""
      ]
     },
     "execution_count": 15,
     "metadata": {},
     "output_type": "execute_result"
    }
   ],
   "source": [
    "training_data[0]['text']"
   ]
  },
  {
   "cell_type": "code",
   "execution_count": 16,
   "id": "0991edea",
   "metadata": {
    "execution": {
     "iopub.execute_input": "2025-01-23T18:28:04.547015Z",
     "iopub.status.busy": "2025-01-23T18:28:04.546674Z",
     "iopub.status.idle": "2025-01-23T18:28:04.553989Z",
     "shell.execute_reply": "2025-01-23T18:28:04.553147Z"
    },
    "papermill": {
     "duration": 0.015658,
     "end_time": "2025-01-23T18:28:04.555543",
     "exception": false,
     "start_time": "2025-01-23T18:28:04.539885",
     "status": "completed"
    },
    "tags": []
   },
   "outputs": [
    {
     "data": {
      "text/plain": [
       "[(360, 371, 'MEDICINE'),\n",
       " (383, 408, 'MEDICINE'),\n",
       " (104, 112, 'MEDICALCONDITION'),\n",
       " (679, 689, 'MEDICINE'),\n",
       " (6, 23, 'MEDICINE'),\n",
       " (25, 37, 'MEDICINE'),\n",
       " (461, 470, 'MEDICALCONDITION'),\n",
       " (577, 589, 'MEDICINE'),\n",
       " (853, 865, 'MEDICALCONDITION'),\n",
       " (188, 198, 'MEDICINE'),\n",
       " (754, 762, 'MEDICALCONDITION'),\n",
       " (870, 880, 'MEDICALCONDITION'),\n",
       " (823, 833, 'MEDICINE'),\n",
       " (852, 853, 'MEDICALCONDITION'),\n",
       " (461, 469, 'MEDICALCONDITION'),\n",
       " (535, 543, 'MEDICALCONDITION'),\n",
       " (692, 704, 'MEDICINE'),\n",
       " (563, 571, 'MEDICALCONDITION')]"
      ]
     },
     "execution_count": 16,
     "metadata": {},
     "output_type": "execute_result"
    }
   ],
   "source": [
    "training_data[0]['entities']"
   ]
  },
  {
   "cell_type": "code",
   "execution_count": 17,
   "id": "57f58409",
   "metadata": {
    "execution": {
     "iopub.execute_input": "2025-01-23T18:28:04.568826Z",
     "iopub.status.busy": "2025-01-23T18:28:04.568490Z",
     "iopub.status.idle": "2025-01-23T18:28:04.794182Z",
     "shell.execute_reply": "2025-01-23T18:28:04.793187Z"
    },
    "papermill": {
     "duration": 0.234418,
     "end_time": "2025-01-23T18:28:04.796016",
     "exception": false,
     "start_time": "2025-01-23T18:28:04.561598",
     "status": "completed"
    },
    "tags": []
   },
   "outputs": [],
   "source": [
    "from spacy.tokens import DocBin\n",
    "from tqdm import tqdm\n",
    "nlp=spacy.blank(\"en\")\n",
    "doc_bin=DocBin()"
   ]
  },
  {
   "cell_type": "code",
   "execution_count": 18,
   "id": "5b653122",
   "metadata": {
    "execution": {
     "iopub.execute_input": "2025-01-23T18:28:04.809895Z",
     "iopub.status.busy": "2025-01-23T18:28:04.809627Z",
     "iopub.status.idle": "2025-01-23T18:28:04.911209Z",
     "shell.execute_reply": "2025-01-23T18:28:04.909753Z"
    },
    "papermill": {
     "duration": 0.110096,
     "end_time": "2025-01-23T18:28:04.912870",
     "exception": false,
     "start_time": "2025-01-23T18:28:04.802774",
     "status": "completed"
    },
    "tags": []
   },
   "outputs": [
    {
     "name": "stderr",
     "output_type": "stream",
     "text": [
      "100%|██████████| 31/31 [00:00<00:00, 392.42it/s]"
     ]
    },
    {
     "name": "stdout",
     "output_type": "stream",
     "text": [
      "skipping\n",
      "skipping\n",
      "skipping\n",
      "skipping\n",
      "skipping\n",
      "skipping\n",
      "skipping\n",
      "skipping\n",
      "skipping\n",
      "skipping\n",
      "skipping\n",
      "skipping\n",
      "skipping\n",
      "skipping\n",
      "skipping\n",
      "skipping\n"
     ]
    },
    {
     "name": "stderr",
     "output_type": "stream",
     "text": [
      "\n"
     ]
    }
   ],
   "source": [
    "from spacy.util import filter_spans\n",
    "for training_example in tqdm(training_data):\n",
    "    text=training_example['text']\n",
    "    labels=training_example['entities']\n",
    "    doc=nlp.make_doc(text)\n",
    "    ents=[]\n",
    "    for start, end, label in labels:\n",
    "        span =doc.char_span(start,end,label=label,alignment_mode=\"contract\")\n",
    "        if span is None:\n",
    "            print(\"skipping\")\n",
    "        else:\n",
    "            ents.append(span)\n",
    "    filtered_ents=filter_spans(ents)\n",
    "    doc.ents=filtered_ents\n",
    "    doc_bin.add(doc)\n",
    "doc_bin.to_disk('train.spacy')"
   ]
  },
  {
   "cell_type": "code",
   "execution_count": 19,
   "id": "62c9af73",
   "metadata": {
    "execution": {
     "iopub.execute_input": "2025-01-23T18:28:04.927231Z",
     "iopub.status.busy": "2025-01-23T18:28:04.926924Z",
     "iopub.status.idle": "2025-01-23T18:28:09.710290Z",
     "shell.execute_reply": "2025-01-23T18:28:09.709042Z"
    },
    "papermill": {
     "duration": 4.793212,
     "end_time": "2025-01-23T18:28:09.712912",
     "exception": false,
     "start_time": "2025-01-23T18:28:04.919700",
     "status": "completed"
    },
    "tags": []
   },
   "outputs": [
    {
     "name": "stdout",
     "output_type": "stream",
     "text": [
      "\u001b[38;5;3m⚠ To generate a more effective transformer-based config (GPU-only),\r\n",
      "install the spacy-transformers package and re-run this command. The config\r\n",
      "generated now does not use transformers.\u001b[0m\r\n",
      "\u001b[38;5;4mℹ Generated config template specific for your use case\u001b[0m\r\n",
      "- Language: en\r\n",
      "- Pipeline: ner\r\n",
      "- Optimize for: efficiency\r\n",
      "- Hardware: CPU\r\n",
      "- Transformer: None\r\n",
      "\u001b[38;5;2m✔ Auto-filled config with all values\u001b[0m\r\n",
      "\u001b[38;5;2m✔ Saved config\u001b[0m\r\n",
      "config.cfg\r\n",
      "You can now add your data and train your pipeline:\r\n",
      "python -m spacy train config.cfg --paths.train ./train.spacy --paths.dev ./dev.spacy\r\n"
     ]
    }
   ],
   "source": [
    "!python -m spacy init config config.cfg --lang en --pipeline ner --optimize efficiency --force"
   ]
  },
  {
   "cell_type": "code",
   "execution_count": 20,
   "id": "46d92726",
   "metadata": {
    "execution": {
     "iopub.execute_input": "2025-01-23T18:28:09.729376Z",
     "iopub.status.busy": "2025-01-23T18:28:09.729020Z",
     "iopub.status.idle": "2025-01-23T18:38:47.818567Z",
     "shell.execute_reply": "2025-01-23T18:38:47.817386Z"
    },
    "papermill": {
     "duration": 638.099094,
     "end_time": "2025-01-23T18:38:47.820530",
     "exception": false,
     "start_time": "2025-01-23T18:28:09.721436",
     "status": "completed"
    },
    "tags": []
   },
   "outputs": [
    {
     "name": "stdout",
     "output_type": "stream",
     "text": [
      "\u001b[38;5;2m✔ Created output directory: output\u001b[0m\r\n",
      "\u001b[38;5;4mℹ Saving to output directory: output\u001b[0m\r\n",
      "\u001b[38;5;4mℹ Using CPU\u001b[0m\r\n",
      "\u001b[1m\r\n",
      "=========================== Initializing pipeline ===========================\u001b[0m\r\n",
      "[2025-01-23 18:28:13,245] [INFO] Set up nlp object from config\r\n",
      "[2025-01-23 18:28:13,270] [INFO] Pipeline: ['tok2vec', 'ner']\r\n",
      "[2025-01-23 18:28:13,274] [INFO] Created vocabulary\r\n",
      "[2025-01-23 18:28:13,275] [INFO] Finished initializing nlp object\r\n",
      "[2025-01-23 18:28:13,714] [INFO] Initialized pipeline components: ['tok2vec', 'ner']\r\n",
      "\u001b[38;5;2m✔ Initialized pipeline\u001b[0m\r\n",
      "\u001b[1m\r\n",
      "============================= Training pipeline =============================\u001b[0m\r\n",
      "\u001b[38;5;4mℹ Pipeline: ['tok2vec', 'ner']\u001b[0m\r\n",
      "\u001b[38;5;4mℹ Initial learn rate: 0.001\u001b[0m\r\n",
      "E    #       LOSS TOK2VEC  LOSS NER  ENTS_F  ENTS_P  ENTS_R  SCORE \r\n",
      "---  ------  ------------  --------  ------  ------  ------  ------\r\n",
      "/usr/local/lib/python3.10/dist-packages/thinc/layers/layernorm.py:31: RuntimeWarning: divide by zero encountered in reciprocal\r\n",
      "  d_xhat = N * dY - sum_dy - dist * var ** (-1.0) * sum_dy_dist\r\n",
      "  0       0          0.00    153.29    0.00    0.00    0.00    0.00\r\n",
      "  7     200        896.72   3337.63   81.51   82.33   80.71    0.82\r\n",
      " 14     400        209.31    580.26   94.88   94.88   94.88    0.95\r\n",
      " 22     600        195.65    284.42   96.51   95.04   98.03    0.97\r\n",
      " 30     800        194.53    231.90   98.22   98.42   98.03    0.98\r\n",
      " 40    1000        367.06    173.67   97.84   97.65   98.03    0.98\r\n",
      " 51    1200       1339.57    174.93   98.43   98.43   98.43    0.98\r\n",
      " 65    1400        273.89    178.53   98.43   98.43   98.43    0.98\r\n",
      " 81    1600        296.23    215.86   98.61   99.20   98.03    0.99\r\n",
      "101    1800        190.68    212.16   98.62   98.81   98.43    0.99\r\n",
      "127    2000        210.09    238.79   98.43   98.43   98.43    0.98\r\n",
      "159    2200        113.83    216.98   98.82   98.82   98.82    0.99\r\n",
      "198    2400        135.34    247.14   98.82   98.82   98.82    0.99\r\n",
      "246    2600        205.61    279.42   98.82   98.82   98.82    0.99\r\n",
      "295    2800         81.05    268.59   98.82   98.82   98.82    0.99\r\n",
      "345    3000        267.91    296.02   98.82   98.82   98.82    0.99\r\n",
      "393    3200        190.36    280.18   98.81   99.21   98.43    0.99\r\n",
      "443    3400        114.80    265.08   98.82   98.44   99.21    0.99\r\n",
      "492    3600         84.35    252.16   98.82   98.44   99.21    0.99\r\n",
      "541    3800         58.60    244.89   98.82   98.44   99.21    0.99\r\n",
      "590    4000         71.15    242.03   98.82   98.82   98.82    0.99\r\n",
      "638    4200        499.74    273.52   98.81   99.21   98.43    0.99\r\n",
      "688    4400        118.65    242.86   98.82   98.82   98.82    0.99\r\n",
      "737    4600         54.86    236.21   98.81   99.21   98.43    0.99\r\n",
      "787    4800         64.14    244.50   98.82   98.44   99.21    0.99\r\n",
      "836    5000        126.41    250.11   98.81   99.21   98.43    0.99\r\n",
      "\u001b[38;5;2m✔ Saved pipeline to output directory\u001b[0m\r\n",
      "output/model-last\r\n"
     ]
    }
   ],
   "source": [
    "!python -m spacy train config.cfg --output ./output --paths.train ./train.spacy --paths.dev ./train.spacy\n"
   ]
  },
  {
   "cell_type": "code",
   "execution_count": 21,
   "id": "d021f26b",
   "metadata": {
    "execution": {
     "iopub.execute_input": "2025-01-23T18:38:47.838840Z",
     "iopub.status.busy": "2025-01-23T18:38:47.838507Z",
     "iopub.status.idle": "2025-01-23T18:38:48.251915Z",
     "shell.execute_reply": "2025-01-23T18:38:48.250804Z"
    },
    "papermill": {
     "duration": 0.424565,
     "end_time": "2025-01-23T18:38:48.253799",
     "exception": false,
     "start_time": "2025-01-23T18:38:47.829234",
     "status": "completed"
    },
    "tags": []
   },
   "outputs": [],
   "source": [
    "nlp_ner=spacy.load(\"output/model-last\")"
   ]
  },
  {
   "cell_type": "code",
   "execution_count": 22,
   "id": "e4906e37",
   "metadata": {
    "execution": {
     "iopub.execute_input": "2025-01-23T18:38:48.271928Z",
     "iopub.status.busy": "2025-01-23T18:38:48.271649Z",
     "iopub.status.idle": "2025-01-23T18:38:48.284611Z",
     "shell.execute_reply": "2025-01-23T18:38:48.283809Z"
    },
    "papermill": {
     "duration": 0.023365,
     "end_time": "2025-01-23T18:38:48.285898",
     "exception": false,
     "start_time": "2025-01-23T18:38:48.262533",
     "status": "completed"
    },
    "tags": []
   },
   "outputs": [
    {
     "data": {
      "text/html": [
       "<span class=\"tex2jax_ignore\"><div class=\"entities\" style=\"line-height: 2.5; direction: ltr\">\n",
       "<mark class=\"entity\" style=\"background: #ddd; padding: 0.45em 0.6em; margin: 0 0.25em; line-height: 1; border-radius: 0.35em;\">\n",
       "    bismuth compunds\n",
       "    <span style=\"font-size: 0.8em; font-weight: bold; line-height: 1; border-radius: 0.35em; vertical-align: middle; margin-left: 0.5rem\">MEDICINE</span>\n",
       "</mark>\n",
       " reduced the number of bowel movements in \n",
       "<mark class=\"entity\" style=\"background: #ddd; padding: 0.45em 0.6em; margin: 0 0.25em; line-height: 1; border-radius: 0.35em;\">\n",
       "    diarrhea\n",
       "    <span style=\"font-size: 0.8em; font-weight: bold; line-height: 1; border-radius: 0.35em; vertical-align: middle; margin-left: 0.5rem\">MEDICALCONDITION</span>\n",
       "</mark>\n",
       "</div></span>"
      ],
      "text/plain": [
       "<IPython.core.display.HTML object>"
      ]
     },
     "metadata": {},
     "output_type": "display_data"
    }
   ],
   "source": [
    "doc=nlp_ner(\"bismuth compunds reduced the number of bowel movements in diarrhea\")\n",
    "spacy.displacy.render(doc,style=\"ent\")"
   ]
  },
  {
   "cell_type": "code",
   "execution_count": null,
   "id": "9eacbfad",
   "metadata": {
    "papermill": {
     "duration": 0.008396,
     "end_time": "2025-01-23T18:38:48.302667",
     "exception": false,
     "start_time": "2025-01-23T18:38:48.294271",
     "status": "completed"
    },
    "tags": []
   },
   "outputs": [],
   "source": []
  }
 ],
 "metadata": {
  "kaggle": {
   "accelerator": "none",
   "dataSources": [
    {
     "datasetId": 560102,
     "sourceId": 1041608,
     "sourceType": "datasetVersion"
    },
    {
     "sourceId": 218066465,
     "sourceType": "kernelVersion"
    }
   ],
   "dockerImageVersionId": 30839,
   "isGpuEnabled": false,
   "isInternetEnabled": true,
   "language": "python",
   "sourceType": "notebook"
  },
  "kernelspec": {
   "display_name": "Python 3",
   "language": "python",
   "name": "python3"
  },
  "language_info": {
   "codemirror_mode": {
    "name": "ipython",
    "version": 3
   },
   "file_extension": ".py",
   "mimetype": "text/x-python",
   "name": "python",
   "nbconvert_exporter": "python",
   "pygments_lexer": "ipython3",
   "version": "3.10.12"
  },
  "papermill": {
   "default_parameters": {},
   "duration": 656.882293,
   "end_time": "2025-01-23T18:38:49.532927",
   "environment_variables": {},
   "exception": null,
   "input_path": "__notebook__.ipynb",
   "output_path": "__notebook__.ipynb",
   "parameters": {},
   "start_time": "2025-01-23T18:27:52.650634",
   "version": "2.6.0"
  }
 },
 "nbformat": 4,
 "nbformat_minor": 5
}
